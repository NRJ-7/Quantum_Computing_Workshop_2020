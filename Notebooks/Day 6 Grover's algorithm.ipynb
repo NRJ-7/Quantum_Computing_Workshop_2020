{
 "cells": [
  {
   "cell_type": "markdown",
   "metadata": {
    "colab_type": "text",
    "id": "A0-Pin4YMLhi"
   },
   "source": [
    "# Grover's Algorithm\n",
    "\n",
    "\n",
    "If we have a database of $n$ entries and are looking for one particular entry among these, a classical computer will require $O(N)$ operations to find the entry we're looking for. A quantum computer, on the other hand, can achieve this task using only $O(\\sqrt{N})$ operations. The quantum search algorithm used for this purpose is known as Grover’s algorithm, which provides a quadratic speed-up over classical search algorithms. "
   ]
  },
  {
   "cell_type": "code",
   "execution_count": 28,
   "metadata": {
    "colab": {},
    "colab_type": "code",
    "id": "DnwXu6gFMLhj"
   },
   "outputs": [
    {
     "name": "stderr",
     "output_type": "stream",
     "text": [
      "ibmqfactory.load_account:WARNING:2020-08-02 02:53:31,502: Credentials are already in use. The existing account in the session will be replaced.\n"
     ]
    }
   ],
   "source": [
    "from qiskit import *\n",
    "from qiskit.compiler import *\n",
    "from qiskit.tools.jupyter import *\n",
    "from qiskit.visualization import *\n",
    "import matplotlib.pyplot as plotter\n",
    "import numpy as np\n",
    "from IPython.display import display, Math, Latex\n",
    "%matplotlib inline\n",
    "# Loading your IBM Q account(s)\n",
    "provider = IBMQ.load_account()"
   ]
  },
  {
   "cell_type": "markdown",
   "metadata": {
    "colab_type": "text",
    "id": "wnA9Ts2KMLhm"
   },
   "source": [
    "We will start by introducing an *oracle*.\n",
    "\n",
    "## The oracle\n",
    "We wish to search through a search space of $N$ elements, and let us assume $N=2^n$ so that the index can be stored in $n$ bits. Suppose the search problem has $M$ solutions with $1\\leq M \\leq N$. We define a function $f$, which takes as input an integer $x$, in the range $0$ to $N-1$. By definition, $f(x) = 1$ if $x$ is a solution to the search problem, and f(x) = 0, otherwise. Suppose we have a quantum oracle, a black box,  with the ability to recognize solutions to the search problem. The oracle is a unitary operator, $O$, which may make use of an additional *oracle qubit* for recognising solutions, so that its action is defined as follows:\n",
    "$$\\vert x\\rangle \\vert q\\rangle \\overset{O}{\\longrightarrow}\\vert x\\rangle \\vert q\\oplus f(x) \\rangle,$$ where $\\vert x\\rangle$ is the index register and the oracle qubit $\\vert q\\rangle$ is a single qubit which is flipped if $f(x) = 1$, and is unchanged otherwise. It is convenient to initially set the oracle qubit to $(\\vert 0\\rangle-\\vert 1\\rangle)/\\sqrt{2}$ since the action of the oracle becomes:\n",
    "$$\\vert x\\rangle \\left(\\frac{\\vert 0\\rangle-\\vert 1\\rangle}{\\sqrt2}\\right) \\overset{O}{\\longrightarrow}(-1)^{f(x)}\\vert x\\rangle\\left(\\frac{\\vert 0\\rangle-\\vert 1\\rangle}{\\sqrt2}\\right) $$\n",
    "Since the oracle qubit remains the same effectively, the action of the oracle may be written as:\n",
    "$$\\vert x\\rangle \\overset{O}{\\longrightarrow}(-1)^{f(x)}\\vert x\\rangle.$$\n",
    "The quantum search algorithm begins with the computer in the state $\\vert 0\\rangle^{\\otimes n}$. The Hadamard transform is used to put the computer in the equal superposition state,\n",
    "$$\\vert \\psi\\rangle=\\frac{1}{\\sqrt{N}}\\sum\\limits_{x=0}^{N-1} \\vert x\\rangle$$\n",
    "\n",
    "Now let's utilise Qiskit to help design some of these mysterious oracles for a few simple cases.\n",
    "\n",
    "Suppose we have $N$=4 and only one of the four states happens to be the sought after solution. Let the solution state be denoted by $\\vert w\\rangle$.\n",
    "\n",
    "We will first see what the oracle looks like in case $\\vert w\\rangle = \\vert 11\\rangle$. \n",
    "\n",
    "The way the oracle $O$ is expected to behave is as follows: $$O \\frac{1}{2}(\\vert 00\\rangle +\\vert 01\\rangle +\\vert 10\\rangle +\\vert 11\\rangle)=\\frac{1}{2}(\\vert 00\\rangle +\\vert 01\\rangle +\\vert 10\\rangle -\\vert 11\\rangle)$$"
   ]
  },
  {
   "cell_type": "code",
   "execution_count": 2,
   "metadata": {
    "colab": {},
    "colab_type": "code",
    "id": "URMRnOeZMLhn"
   },
   "outputs": [
    {
     "data": {
      "image/png": "[encoded data removed]",
      "text/plain": [
       "<Figure size 418.992x144.48 with 1 Axes>"
      ]
     },
     "execution_count": 2,
     "metadata": {},
     "output_type": "execute_result"
    }
   ],
   "source": [
    "qc1=QuantumCircuit(2)\n",
    "qc1.h(0)\n",
    "qc1.h(1)\n",
    "qc1.barrier() #The part between the barriers is our oracle\n",
    "qc1.cz(0,1)\n",
    "#We are using a controlled-Z gate which flips the sign of the second qubit when both qubits are set to '1'\n",
    "qc1.barrier()\n",
    "qc1.draw('mpl')"
   ]
  },
  {
   "cell_type": "code",
   "execution_count": 3,
   "metadata": {
    "colab": {},
    "colab_type": "code",
    "id": "GKRV2LTQMLhq"
   },
   "outputs": [
    {
     "name": "stdout",
     "output_type": "stream",
     "text": [
      "[ 0.5+0.j  0.5+0.j  0.5+0.j -0.5+0.j]\n"
     ]
    }
   ],
   "source": [
    "def final_vector(qc):\n",
    "    backend = Aer.get_backend('statevector_simulator')\n",
    "    job = execute(qc, backend)\n",
    "    result = job.result()\n",
    "    outputstate = result.get_statevector(qc, decimals=3)\n",
    "    return outputstate\n",
    "print(final_vector(qc1)) #We can see that the desired state has been obtained\n"
   ]
  },
  {
   "cell_type": "markdown",
   "metadata": {
    "colab_type": "text",
    "id": "ex34w2a5MLht"
   },
   "source": [
    "## Your Task\n",
    "1) Make an oracle for $N=8$ and $\\vert w \\rangle=\\vert 010 \\rangle$, and run it as done above."
   ]
  },
  {
   "cell_type": "code",
   "execution_count": 26,
   "metadata": {
    "colab": {},
    "colab_type": "code",
    "id": "kpQD8SelMLht"
   },
   "outputs": [
    {
     "data": {
      "image/png": "[encoded data removed]",
      "text/plain": [
       "<Figure size 539.392x204.68 with 1 Axes>"
      ]
     },
     "execution_count": 26,
     "metadata": {},
     "output_type": "execute_result"
    }
   ],
   "source": [
    "qc_1 = QuantumCircuit(1)\n",
    "qc_1.z(0)\n",
    "qc_1.name = \"z\"\n",
    "c2z = qc_1.to_gate().control(2)\n",
    "\n",
    "qc_1 = QuantumCircuit(3)\n",
    "qc_1.h(0)\n",
    "qc_1.h(1)\n",
    "qc_1.h(2)\n",
    "qc_1.barrier()\n",
    "\n",
    "qc_1.x(0)\n",
    "qc_1.x(2)\n",
    "qc_1.append(c2z, [0, 2, 1])\n",
    "qc_1.x(0)\n",
    "qc_1.x(2)\n",
    "qc_1.barrier()\n",
    "qc_1.draw()"
   ]
  },
  {
   "cell_type": "code",
   "execution_count": 29,
   "metadata": {},
   "outputs": [
    {
     "name": "stdout",
     "output_type": "stream",
     "text": [
      "[ 0.354+0.j  0.354+0.j -0.354+0.j  0.354+0.j  0.354+0.j  0.354+0.j\n",
      "  0.354+0.j  0.354+0.j]\n"
     ]
    }
   ],
   "source": [
    "#print the final vector\n",
    "def final_vector(qc):\n",
    "    backend = Aer.get_backend('statevector_simulator')\n",
    "    job = execute(qc, backend)\n",
    "    result = job.result()\n",
    "    outputstate = result.get_statevector(qc, decimals=3)\n",
    "    return outputstate\n",
    "print(final_vector(qc_1)) #We can see that the desired state has been obtained"
   ]
  },
  {
   "cell_type": "markdown",
   "metadata": {
    "colab_type": "text",
    "id": "e3rnUFAvMLhw"
   },
   "source": [
    "## The Grover iteration\n",
    "\n",
    "The Grover iteration or Grover operator, denoted by $G$, consists of the following four steps, and it is applied repeatedly throughout the search algorithm.\n",
    "\n",
    "1) Apply the oracle $O$.\n",
    "\n",
    "2) Apply the Hadamard transform $H^{\\otimes n}$.\n",
    "\n",
    "3) Perform a conditional phase shift on the computer, with every computational basis state except $\\vert 0\\rangle$ receiving a phase shift of -1,\n",
    "$$\\vert x\\rangle\\longrightarrow -(-1)^{\\delta_{x0}}\\vert x\\rangle.$$ \n",
    "\n",
    "4) Apply the Hadamard transform $H^{\\otimes n}$.\n",
    "\n",
    "The combined effect of steps 2, 3, and 4 is\n",
    "$$H^{\\otimes n}(2\\vert 0\\rangle\\langle 0\\vert -1) H^{\\otimes n}=2\\vert \\psi\\rangle\\langle \\psi\\vert -I,$$ where $\\vert \\psi\\rangle$is the equally weighted superposition of states.\n",
    "\n",
    "Thus the Grover iteration may be written as\n",
    "$$G=(2\\vert \\psi\\rangle\\langle \\psi\\vert -I)O.$$\n",
    "\n",
    "The following is the circuit for Grover iteration, $G$:\n",
    "\n",
    "<img src=\"https://raw.githubusercontent.com/mnp-club/Quantum_Computing_Workshop_2020/master/images/grover.jpg\" width = \"600\" height = \"400\"></img>\n",
    "\n",
    "### Geometric visualisation\n",
    "\n",
    "Let $\\sideset{}{'}\\sum\\limits_x $ indicate a sum over all $x$ which are solutions to the search problem and $\\sideset{}{''}\\sum\\limits_x$ indicate a sum over all x which are not solutions to the search problem. We define normalized states\n",
    "$$\\vert\\alpha\\rangle=\\frac{1}{\\sqrt{N-M}}\\sideset{}{''}\\sum\\limits_x \\vert x\\rangle$$\n",
    "$$\\vert\\beta\\rangle=\\frac{1}{\\sqrt{M}}\\sideset{}{'}\\sum\\limits_x\\vert x\\rangle$$\n",
    "So, the initial state can be expressed as \n",
    "$$\\vert\\psi\\rangle=\\sqrt{\\frac{N-M}{N}}\\vert\\alpha\\rangle+\\sqrt{\\frac{M}{N}}\\vert\\beta\\rangle.$$\n",
    "The oracle operation $O$ performs a reflection about the vector $\\vert\\alpha\\rangle$ in the plane defined by $\\vert\\alpha\\rangle$ and $\\vert\\beta\\rangle$. That is, $$O(a\\vert\\alpha\\rangle + b\\vert\\beta\\rangle)=a\\vert\\alpha\\rangle-b\\vert\\beta\\rangle.$$ Similarly, $2\\vert \\psi\\rangle\\langle \\psi\\vert -I$ also performs a reflection in the plane defined by $\\vert\\alpha\\rangle$ and $\\vert\\beta\\rangle$, about the vector $\\vert\\psi\\rangle$. (To understand this, consider any unit vector $\\vert\\phi_1\\rangle$ parallel to $\\vert\\psi\\rangle$, on applying this operation, it remains the same, while any vector $\\vert\\phi_2\\rangle$ perpendicular to $\\vert\\psi\\rangle$ gets its sign flipped.)\n",
    "\n",
    "The product of two reflections is a rotation. \n",
    "Let $\\cos(\\theta/2)=\\sqrt{(N-M)/N}$, so that $$\\vert\\psi\\rangle = \\cos(\\theta/2)\\vert\\alpha\\rangle+ \\sin(\\theta/2)\\vert\\beta\\rangle.$$ \n",
    "The two reﬂections which comprise $G$ take $\\vert\\psi\\rangle$ to \n",
    "$$G\\vert\\psi\\rangle = \\cos\\left(\\frac{3\\theta}{2}\\right)\\vert\\alpha\\rangle+ \\sin\\left(\\frac{3\\theta}{2}\\right)\\vert\\beta\\rangle,$$\n",
    "so the rotation angle of operator $G$ in the space spanned by $\\vert\\alpha\\rangle$ and $\\vert\\beta\\rangle$ is $\\theta$. \n",
    "\n",
    "The following figure shows the action of a single Grover iteration, $G$.\n",
    "<img src=\"https://raw.githubusercontent.com/mnp-club/Quantum_Computing_Workshop_2020/master/images/geometrygrover.jpg\" width = \"300\" height = \"300\"></img>\n",
    "\n",
    "Continued application of $G$ takes the state to \n",
    "$$G^k\\vert\\psi\\rangle = \\cos\\left(\\frac{2k+1}{2}\\theta\\right)\\vert\\alpha\\rangle+ \\sin\\left(\\frac{2k+1}{2}\\theta\\right)\\vert\\beta\\rangle.$$\n",
    "Repeated application of the Grover iteration rotates the state vector close to $\\vert\\beta\\rangle$! Since $\\vert\\beta\\rangle$ is the superposition of all the solution states, getting as close as we can to $\\vert\\beta\\rangle$ is what we aim to achieve."
   ]
  },
  {
   "cell_type": "markdown",
   "metadata": {
    "colab_type": "text",
    "id": "_SrL-1qSMLhw"
   },
   "source": [
    "## Quantum search algorithm and its performance\n",
    "Rotating through $\\arccos(\\sqrt{M/N})$ radians takes the system to $\\vert\\beta\\rangle$.Let CI($x$) denote the integer closest to the real number $x$, where by convention we round halves down, CI(3.5)=3, for example. Then repeating the Grover iteration \n",
    "$$R=CI\\frac{\\arccos\\sqrt{M/N}}{\\theta},$$\n",
    "times rotates $\\vert\\psi\\rangle$ to within an angle $\\theta/2 \\leq \\pi/4$ of $\\vert\\beta\\rangle$. Observing the state then yields a solution to the search problem with probability at least 1/2.\\\\\n",
    " Assuming for the moment that $M \\leq N/2$, we have \n",
    " $$\\frac{\\theta}{2}\\leq\\sin\\left(\\frac{\\theta}{2}\\right)=\\sqrt{\\frac{M}{N}}$$\n",
    " Since $R\\leq\\lceil\\pi/2\\theta\\rceil$, so we obtain an upper bound on the number of iterations required\n",
    " $$R\\leq\\left\\lceil\\frac{\\pi}{4}\\sqrt{\\frac{N}{M}}\\right\\rceil$$\n",
    "Thus $R=O\\sqrt{N/M})$ Grover iterations (and thus oracle calls) must be performed in order to obtain a solution to the search problem with high probability. \n",
    "\n",
    "\n",
    "## Algorithm: Quantum search (summarized for the case $M = 1$)\n",
    "### Inputs:\n",
    "**1.** A black box oracle $O$ which performs the transformation $O\\vert x\\rangle\\vert q\\rangle=\\vert x\\rangle\\vert q\\oplus f(x)\\rangle$ where $f(x) = 0$ for all $0 \\leq x\\leq 2^n$ except $x_0$, for which $f(x_0) = 1$\n",
    "\n",
    "**2.** $n +1$ qubits in the state $\\vert 0\\rangle$. \n",
    "\n",
    "### Outputs:\n",
    "$x_0$.\n",
    "\n",
    "### Runtime:\n",
    "$O(\\sqrt{2^n})$ operations. Succeeds with probability $O(1)$. \n",
    "\n",
    "### Procedure:\n",
    "\n",
    "**1.** $\\vert 0\\rangle^{\\otimes n}\\vert 0\\rangle$   \n",
    "\n",
    "*initial state*\n",
    "\n",
    "**2.** $\\displaystyle{\\longrightarrow \\frac{1}{\\sqrt{2^n}}\\sum_{x=0}^{2^n-1}\\vert x\\rangle\\left[\\frac{\\vert 0\\rangle-\\vert 1\\rangle}{\\sqrt{2}}\\right]}$   \n",
    "\n",
    "*apply $H^{\\otimes n}$ to the first $n$ qubits, and $HX$ to the last qubit*\n",
    "\n",
    "**3.**$\\displaystyle{\\longrightarrow [(2\\vert \\psi\\rangle\\langle \\psi\\vert -I)O]^R \\frac{1}{\\sqrt{2^n}}\\sum_{x=0}^{2^n-1}\\vert x\\rangle\\left[\\frac{\\vert 0\\rangle-\\vert 1\\rangle}{\\sqrt{2}}\\right]}$   \n",
    "$\\displaystyle{\\approx \\vert x_0\\rangle\\left[\\frac{\\vert 0\\rangle-\\vert 1\\rangle}{\\sqrt{2}}\\right]}$ \n",
    " \n",
    " *apply the Grover iteration $R\\approx[\\pi \\sqrt{2^n}/4]$times*\n",
    "\n",
    "**4.**$\\longrightarrow x_0$    \n",
    "\n",
    "*measure the first $n$ qubits*\n",
    "\n",
    "\n",
    "\n",
    "From the expression $\\theta = \\arcsin\\left(\\frac{2\\sqrt{M(N-M)}}{N}\\right)$, we see that the angle $\\theta$ gets smaller as $M$ varies from $N/2$ to $N$, hence increasing the number of iterations needed by the search algorithm with M, for $M \\geq N/2$, which is counter-intuitive.\n",
    "\n",
    "One way of solving this problem is if $M$ is known in advance to be larger than $N/2$ then we can just randomly pick an item from the search space and check if it is a solution using the oracle. This approach has a success probability at least one-half, and only requires one consultation with the oracle.\n",
    "\n",
    "In the case where it isn't known whether $M \\geq N/2$, the approach is to double the number of elements in the search space by adding a single qubit $\\vert q\\rangle$ to the search index which adds $N$ extra items to the search space, none of which are solutions. So, less than half the items in the new search space are solutions. A new augmented oracle $O'$ is constructed. using one call to $O$, which marks an item only if it is a solution to the search problem **and** the extra bit is set to zero. At most $R = \\pi/4\\sqrt{2N/M}$ calls to $O'$ are required, and it follows that $O(\\sqrt{N/M})$ calls to $O$ are required to perform the search."
   ]
  },
  {
   "cell_type": "markdown",
   "metadata": {
    "colab_type": "text",
    "id": "TlX0b2NNMLhx"
   },
   "source": [
    "## Implementation using Qiskit\n",
    "We will now go through the example of Grover's algorithm for 3 qubits with two solution states $\\vert 101\\rangle$  and $\\vert 110\\rangle$. So here, we have $M=2$ and $N=8$.\n",
    "\n",
    "Observe that in this case the above-defined state $\\vert \\psi\\rangle$ will make an angle $\\theta/2=\\arccos\\left(\\sqrt{\\frac{8-2}{8}}\\right)=\\pi/6$ with the $\\vert\\alpha\\rangle$ axis, and an angle $\\pi/3$ with the $\\vert\\beta\\rangle$ axis, which in this case happens to be $\\theta$, so one Grover iteration will give us the solutions states! This is portrayed below."
   ]
  },
  {
   "cell_type": "code",
   "execution_count": 30,
   "metadata": {
    "colab": {},
    "colab_type": "code",
    "id": "S7PK-iMQMLhx"
   },
   "outputs": [],
   "source": [
    "def ccz_gate(qc,a,b,c):\n",
    "    qc.h(c)\n",
    "    qc.ccx(a,b,c)\n",
    "    qc.h(c)\n",
    "    \n",
    "    "
   ]
  },
  {
   "cell_type": "code",
   "execution_count": 31,
   "metadata": {
    "colab": {},
    "colab_type": "code",
    "id": "nm7YTLSxMLh0"
   },
   "outputs": [
    {
     "data": {
      "image/png": "[encoded data removed]",
      "text/plain": [
       "<Figure size 960.792x264.88 with 1 Axes>"
      ]
     },
     "execution_count": 31,
     "metadata": {},
     "output_type": "execute_result"
    }
   ],
   "source": [
    "#Let's create an oracle which will mark the states 101 and 110\n",
    "#(This particular oracle won't be using ancilla qubits)\n",
    "def phase_oracle(circuit):\n",
    "    circuit.cz(0, 2)\n",
    "    circuit.cz(0, 1)\n",
    "n=3\n",
    "qc2=QuantumCircuit(n,n)\n",
    "for i in range(0,n):\n",
    "    qc2.h(i)\n",
    "qc2.barrier([0,1,2])\n",
    "#This creates a superposition of all states\n",
    "\n",
    "#We will now perform the Grover iteration\n",
    "phase_oracle(qc2)\n",
    "qc2.barrier([0,1,2])\n",
    "\n",
    "for i in range(0,n):\n",
    "    qc2.h(i)\n",
    "    \n",
    "#Performing a conditional phase shift\n",
    "qc2.x(0)\n",
    "qc2.x(1)\n",
    "qc2.x(2)\n",
    "ccz_gate(qc2,0,1,2)\n",
    "qc2.x(0)\n",
    "qc2.x(1)\n",
    "qc2.x(2)\n",
    "for i in range(0,n):\n",
    "    qc2.h(i)\n",
    "#The Grover iteration is now complete\n",
    "\n",
    "qc2.barrier([0,1,2])\n",
    "qc2.draw('mpl')\n"
   ]
  },
  {
   "cell_type": "markdown",
   "metadata": {
    "colab_type": "text",
    "id": "qlRmf6WsMLh3"
   },
   "source": [
    "To verify our above reasoning of obtaining the solution states $\\vert 101\\rangle$  and $\\vert 110\\rangle$ after applying the above circuit, let us measure the qubits."
   ]
  },
  {
   "cell_type": "code",
   "execution_count": 32,
   "metadata": {
    "colab": {},
    "colab_type": "code",
    "id": "9k5tz6KUMLh3"
   },
   "outputs": [
    {
     "data": {
      "image/png": "[encoded data removed]",
      "text/plain": [
       "<Figure size 1141.39x264.88 with 1 Axes>"
      ]
     },
     "execution_count": 32,
     "metadata": {},
     "output_type": "execute_result"
    }
   ],
   "source": [
    "qc2.measure(0,0)\n",
    "qc2.measure(1,1)\n",
    "qc2.measure(2,2)\n",
    "qc2.draw('mpl')"
   ]
  },
  {
   "cell_type": "code",
   "execution_count": 33,
   "metadata": {
    "colab": {},
    "colab_type": "code",
    "id": "febj9AVbMLh5"
   },
   "outputs": [
    {
     "data": {
      "image/png": "[encoded data removed]",
      "text/plain": [
       "<Figure size 504x360 with 1 Axes>"
      ]
     },
     "execution_count": 33,
     "metadata": {},
     "output_type": "execute_result"
    }
   ],
   "source": [
    "def counts_circ(circ):\n",
    "    backend_sim = Aer.get_backend('qasm_simulator')\n",
    "    job_sim = execute(circ, backend_sim, shots=2000)\n",
    "    result_sim = job_sim.result()\n",
    "    counts = result_sim.get_counts(circ)\n",
    "    return(counts)\n",
    "plot_histogram(counts_circ(qc2))\n"
   ]
  },
  {
   "cell_type": "markdown",
   "metadata": {
    "colab_type": "text",
    "id": "8uj-SQlaMLh8"
   },
   "source": [
    "As you can see, we have succeeded in obtaining the solution states!\n",
    "\n",
    "\n",
    "## Multiple-Control Toffoli gate\n",
    "Before we give you your next task on Grover's algorithm, we would like to introduce the very useful Multiple-Control Toffoli gate, denoted by **MCT** in Qiskit. The control qubits are specified in the form of a list as the first argument in the **mct** function, while the target qubit is entered as the second argument.\n",
    "\n",
    "Let us implement it and see what it does.\n"
   ]
  },
  {
   "cell_type": "code",
   "execution_count": 34,
   "metadata": {
    "colab": {},
    "colab_type": "code",
    "id": "67YmXfDLMLh8"
   },
   "outputs": [
    {
     "data": {
      "image/png": "[encoded data removed]",
      "text/plain": [
       "<Figure size 298.592x385.28 with 1 Axes>"
      ]
     },
     "execution_count": 34,
     "metadata": {},
     "output_type": "execute_result"
    }
   ],
   "source": [
    "qc_mct=QuantumCircuit(5,5)\n",
    "for i in range(0,4):\n",
    "    qc_mct.x(i)\n",
    "qc_mct.mct([0,1,2,3],4)\n",
    "qc_mct.draw('mpl')"
   ]
  },
  {
   "cell_type": "markdown",
   "metadata": {
    "colab_type": "text",
    "id": "D8El2qUtMLh-"
   },
   "source": [
    "This is what a multi-control Toffoli gate looks like. It reverses the target qubit if and only if all the control qubits are set to '1'. In the above example the MCT gate is applied to the state $\\vert 11110\\rangle$. Run the following cell to see the obtained state upon measurement."
   ]
  },
  {
   "cell_type": "code",
   "execution_count": 35,
   "metadata": {
    "colab": {},
    "colab_type": "code",
    "id": "CD5h7ObAMLh_"
   },
   "outputs": [
    {
     "data": {
      "image/png": "[encoded data removed]",
      "text/plain": [
       "<Figure size 504x360 with 1 Axes>"
      ]
     },
     "execution_count": 35,
     "metadata": {},
     "output_type": "execute_result"
    }
   ],
   "source": [
    "qc_mct.measure(0,0)\n",
    "qc_mct.measure(1,1)\n",
    "qc_mct.measure(2,2)\n",
    "qc_mct.measure(3,3)\n",
    "qc_mct.measure(4,4)\n",
    "plot_histogram(counts_circ(qc_mct))"
   ]
  },
  {
   "cell_type": "markdown",
   "metadata": {
    "colab_type": "text",
    "id": "PXsa32QFMLiD"
   },
   "source": [
    "## Your Task\n",
    "2) Construct a circuit to carry out the Grover's algorithm for 4 qubits with these solution states: $\\vert 1010\\rangle, \\vert 0010\\rangle, \\vert 1001\\rangle$ and $\\vert 1000\\rangle$.\n",
    "\n",
    "You are free to use any of the functions defined above. You are required to display both the circuit and the histogram showing the end-result."
   ]
  },
  {
   "cell_type": "code",
   "execution_count": 47,
   "metadata": {
    "colab": {},
    "colab_type": "code",
    "id": "j9jri4E5MLiE"
   },
   "outputs": [
    {
     "data": {
      "image/png": "[encoded data removed]",
      "text/plain": [
       "<Figure size 1321.99x325.08 with 1 Axes>"
      ]
     },
     "execution_count": 47,
     "metadata": {},
     "output_type": "execute_result"
    }
   ],
   "source": [
    "#Let's create an oracle which will mark the states 101 and 110\n",
    "#(This particular oracle won't be using ancilla qubits)\n",
    "def phase_oracle(circuit):\n",
    "    circuit.cz(0, 2)\n",
    "    circuit.cz(0, 1)\n",
    "    \n",
    "def cnz(n):\n",
    "    qctest = QuantumCircuit(1)\n",
    "    qctest.z(0)\n",
    "    qctest.name = \"z\"\n",
    "    return qctest.to_gate().control(n-1)\n",
    "    \n",
    "\n",
    "n=4\n",
    "qc_2=QuantumCircuit(n,n)\n",
    "# Create a superposition of all states\n",
    "for i in range(0,n):\n",
    "    qc_2.h(i)\n",
    "qc_2.barrier()\n",
    "\n",
    "\n",
    "# Oracle\n",
    "qc_2.x(1)\n",
    "qc_2.cz(0,1)\n",
    "qc_2.append(cnz(4), [0, 1, 2, 3])\n",
    "qc_2.x(0)\n",
    "qc_2.x(3)\n",
    "qc_2.append(cnz(4), [0, 1, 2, 3])\n",
    "qc_2.x(0)\n",
    "qc_2.x(1)\n",
    "qc_2.x(3)\n",
    "qc_2.barrier()\n",
    "\n",
    "# Grover Iteration\n",
    "for i in range(0,n):\n",
    "    qc_2.h(i)\n",
    "    qc_2.x(i)\n",
    "qc_2.append(cnz(4), [0, 1, 2, 3])\n",
    "for i in range(0,n):\n",
    "    qc_2.x(i)\n",
    "    qc_2.h(i)\n",
    "qc_2.barrier()\n",
    "    \n",
    "# Measure\n",
    "qc_2.measure(0,0)\n",
    "qc_2.measure(1,1)\n",
    "qc_2.measure(2,2)\n",
    "qc_2.measure(3,3)\n",
    "\n",
    "qc_2.draw()"
   ]
  },
  {
   "cell_type": "code",
   "execution_count": 57,
   "metadata": {
    "colab": {},
    "colab_type": "code",
    "id": "rOdI_LPUvK2Q"
   },
   "outputs": [
    {
     "data": {
      "image/png": "[encoded data removed]",
      "text/plain": [
       "<Figure size 504x360 with 1 Axes>"
      ]
     },
     "execution_count": 57,
     "metadata": {},
     "output_type": "execute_result"
    }
   ],
   "source": [
    "def counts_circ(circ):\n",
    "    backend_sim = Aer.get_backend('qasm_simulator')\n",
    "    job_sim = execute(circ, backend_sim, shots=2000)\n",
    "    result_sim = job_sim.result()\n",
    "    counts = result_sim.get_counts(circ)\n",
    "    return(counts)\n",
    "plot_histogram(counts_circ(qc_2))"
   ]
  }
 ],
 "metadata": {
  "colab": {
   "collapsed_sections": [],
   "name": "Day 5 Grover's algorithm.ipynb",
   "provenance": []
  },
  "kernelspec": {
   "display_name": "Python 3",
   "language": "python",
   "name": "python3"
  },
  "language_info": {
   "codemirror_mode": {
    "name": "ipython",
    "version": 3
   },
   "file_extension": ".py",
   "mimetype": "text/x-python",
   "name": "python",
   "nbconvert_exporter": "python",
   "pygments_lexer": "ipython3",
   "version": "3.7.8"
  }
 },
 "nbformat": 4,
 "nbformat_minor": 1
}
